{
 "cells": [
  {
   "cell_type": "markdown",
   "metadata": {},
   "source": [
    "# Parking Garage Project\n",
    "\n",
    "Your assignment for today is to create a parking garage class to get more familiar with Object Oriented Programming(OOP). \n",
    "\n",
    "Your parking gargage class should have the following methods:\n",
    "- takeTicket\n",
    "   - This should decrease the amount of tickets available by 1\n",
    "   - This should decrease the amount of parkingSpaces available by 1\n",
    "- payForParking\n",
    "   - Display an input that waits for an amount from the user and store it in a variable\n",
    "   - If the payment variable is not empty then ->  display a message to the user that their ticket has been paid and they have 15mins to leave\n",
    "   - This should update the \"currentTicket\" dictionary key \"paid\" to True\n",
    "-leaveGarage\n",
    "   - If the ticket has been paid, display a message of \"Thank You, have a nice day\"\n",
    "   - If the ticket has not been paid, display an input prompt for payment\n",
    "      - Once paid, display message \"Thank you, have a nice day!\"\n",
    "   - Update parkingSpaces list to increase by 1\n",
    "   - Update tickets list to increase by 1\n",
    "\n",
    "You will need a few attributes as well:\n",
    "- tickets -> list\n",
    "- parkingSpaces -> list\n",
    "- currentTicket -> dictionary"
   ]
  },
  {
   "cell_type": "code",
   "execution_count": null,
   "metadata": {},
   "outputs": [
    {
     "name": "stdout",
     "output_type": "stream",
     "text": [
      "Welcome to J and K's parking garage!\n",
      "Do you want to take a ticket, (type 'take') pay for parking (type 'pay' or leave (type 'leave'? take\n",
      "[1, 2, 3, 4, 5, 6, 7, 8, 9]\n",
      "{10: ''}\n",
      "[1, 2, 3, 4, 5, 6, 7, 8, 9]\n",
      "Welcome to J and K's parking garage!\n",
      "Do you want to take a ticket, (type 'take') pay for parking (type 'pay' or leave (type 'leave'? take\n",
      "[1, 2, 3, 4, 5, 6, 7, 8]\n",
      "{10: '', 9: ''}\n",
      "[1, 2, 3, 4, 5, 6, 7, 8]\n",
      "Welcome to J and K's parking garage!\n",
      "Do you want to take a ticket, (type 'take') pay for parking (type 'pay' or leave (type 'leave'? take\n",
      "[1, 2, 3, 4, 5, 6, 7]\n",
      "{10: '', 9: '', 8: ''}\n",
      "[1, 2, 3, 4, 5, 6, 7]\n",
      "Welcome to J and K's parking garage!\n"
     ]
    }
   ],
   "source": [
    "# Your Code will go here\n",
    "\n",
    "\n",
    "class ParkingGarage():\n",
    "\n",
    "    def __init__(self, tickets = [1,2,3,4,5,6,7,8,9,10], current_ticket = {}, parking_spaces = [1,2,3,4,5,6,7,8,9,10]):\n",
    "        self.tickets = tickets\n",
    "        self.current_ticket = current_ticket\n",
    "        self.parking_spaces = parking_spaces\n",
    "\n",
    "    def take_ticket(self):\n",
    "        user_ticket = self.tickets.pop()\n",
    "        self.current_ticket[user_ticket]=''\n",
    "        self.parking_spaces.pop()\n",
    "        self.show_tickets()\n",
    "        while True:\n",
    "            ask_4_money = input(\"Would you like to pay now? Type 'pay' to pay for your ticket, type 'no' to pay later: \")\n",
    "            if ask_4_money == 'pay':\n",
    "                self.pay_4_parking()\n",
    "            elif ask_4_money == 'no':\n",
    "                return\n",
    "            else:\n",
    "                print(\"Sorry, not a valid answer.\")\n",
    "        \n",
    "        \n",
    "        \n",
    "    \n",
    "    def show_tickets(self):\n",
    "        print(self.tickets)\n",
    "        print(self.current_ticket)\n",
    "        print(self.parking_spaces)\n",
    "\n",
    "#     def pay_4_parking(self):\n",
    "\n",
    "#     def leave_garage(self):\n",
    "\n",
    "    def run_garage(self):\n",
    "        while True:\n",
    "            print(\"Welcome to J and K's parking garage!\")\n",
    "            user = input(\"Do you want to take a ticket? Type 'take' to take a ticket, type 'pay' to pay for parking and type 'leave' to leave. \")\n",
    "            if user == 'take':\n",
    "                self.take_ticket()\n",
    "            elif user == 'pay':\n",
    "                self.pay_4_parking()\n",
    "            elif user == 'leave':\n",
    "                self.leave_garage()\n",
    "            elif user == 'quit':\n",
    "                return\n",
    "            else:\n",
    "                print(\"That's not a valid response. Please try again.\")\n",
    "parking_garage = ParkingGarage()\n",
    "\n",
    "parking_garage.run_garage()\n",
    "\n"
   ]
  },
  {
   "cell_type": "code",
   "execution_count": null,
   "metadata": {},
   "outputs": [],
   "source": []
  }
 ],
 "metadata": {
  "kernelspec": {
   "display_name": "Python 3",
   "language": "python",
   "name": "python3"
  },
  "language_info": {
   "codemirror_mode": {
    "name": "ipython",
    "version": 3
   },
   "file_extension": ".py",
   "mimetype": "text/x-python",
   "name": "python",
   "nbconvert_exporter": "python",
   "pygments_lexer": "ipython3",
   "version": "3.8.8"
  }
 },
 "nbformat": 4,
 "nbformat_minor": 2
}
